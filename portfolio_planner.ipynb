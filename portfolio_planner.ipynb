{
 "cells": [
  {
   "cell_type": "code",
   "execution_count": 1,
   "metadata": {},
   "outputs": [],
   "source": [
    "# Import libraries and dependencies\n",
    "import numpy as np\n",
    "import pandas as pd\n",
    "import os\n",
    "from datetime import datetime, timedelta\n",
    "import matplotlib.pyplot as plt\n",
    "import alpaca_trade_api as tradeapi\n",
    "%matplotlib inline"
   ]
  },
  {
   "cell_type": "code",
   "execution_count": 2,
   "metadata": {},
   "outputs": [],
   "source": [
    "np.random.seed(42)"
   ]
  },
  {
   "cell_type": "markdown",
   "metadata": {},
   "source": [
    "# Portfolio Planner\n",
    "\n",
    "In this activity, you will use the Alpaca api to grab historical data for a 60/40 portfolio using `SPY` to represent the stock portion and `AGG` to represent the bonds."
   ]
  },
  {
   "cell_type": "code",
   "execution_count": 3,
   "metadata": {},
   "outputs": [],
   "source": [
    "# Load .env enviroment variables\n",
    "from dotenv import load_dotenv\n",
    "load_dotenv()\n",
    "\n",
    "# Set Alpaca API key and secret\n",
    "alpaca_api_key = os.getenv(\"ALPACA_API_KEY\")\n",
    "alpaca_secret_key = os.getenv(\"ALPACA_SECRET_KEY\")\n",
    "\n",
    "# api = tradeapi.REST()\n",
    "api = tradeapi.REST(alpaca_api_key, alpaca_secret_key, api_version='v2')"
   ]
  },
  {
   "cell_type": "markdown",
   "metadata": {},
   "source": [
    "# Data Collection\n",
    "\n",
    "In this step, you will need to use the Alpaca api to fetch closing prices for the `SPY` and `AGG` tickers. Save the results as a pandas DataFrame"
   ]
  },
  {
   "cell_type": "code",
   "execution_count": 4,
   "metadata": {},
   "outputs": [
    {
     "data": {
      "text/html": [
       "<div>\n",
       "<style scoped>\n",
       "    .dataframe tbody tr th:only-of-type {\n",
       "        vertical-align: middle;\n",
       "    }\n",
       "\n",
       "    .dataframe tbody tr th {\n",
       "        vertical-align: top;\n",
       "    }\n",
       "\n",
       "    .dataframe thead th {\n",
       "        text-align: right;\n",
       "    }\n",
       "</style>\n",
       "<table border=\"1\" class=\"dataframe\">\n",
       "  <thead>\n",
       "    <tr style=\"text-align: right;\">\n",
       "      <th></th>\n",
       "      <th>AGG</th>\n",
       "      <th>SPY</th>\n",
       "    </tr>\n",
       "  </thead>\n",
       "  <tbody>\n",
       "    <tr>\n",
       "      <th>2019-01-02</th>\n",
       "      <td>106.585</td>\n",
       "      <td>249.89</td>\n",
       "    </tr>\n",
       "    <tr>\n",
       "      <th>2019-01-03</th>\n",
       "      <td>107.020</td>\n",
       "      <td>244.46</td>\n",
       "    </tr>\n",
       "    <tr>\n",
       "      <th>2019-01-04</th>\n",
       "      <td>106.695</td>\n",
       "      <td>252.41</td>\n",
       "    </tr>\n",
       "    <tr>\n",
       "      <th>2019-01-07</th>\n",
       "      <td>106.470</td>\n",
       "      <td>254.40</td>\n",
       "    </tr>\n",
       "    <tr>\n",
       "      <th>2019-01-08</th>\n",
       "      <td>106.420</td>\n",
       "      <td>256.65</td>\n",
       "    </tr>\n",
       "  </tbody>\n",
       "</table>\n",
       "</div>"
      ],
      "text/plain": [
       "                AGG     SPY\n",
       "2019-01-02  106.585  249.89\n",
       "2019-01-03  107.020  244.46\n",
       "2019-01-04  106.695  252.41\n",
       "2019-01-07  106.470  254.40\n",
       "2019-01-08  106.420  256.65"
      ]
     },
     "execution_count": 4,
     "metadata": {},
     "output_type": "execute_result"
    }
   ],
   "source": [
    "# YOUR CODE HERE\n",
    "# Set the ticker\n",
    "list_of_tickers = [\"SPY\", \"AGG\"]\n",
    "# Set timeframe to '1D'\n",
    "timeframe = '1D'\n",
    "\n",
    "# Set start and end datetimes of 1 year, between now and 365 days ago.\n",
    "#end_date = datetime.now()\n",
    "#start_date = end_date + timedelta(-365*100)\n",
    "\n",
    "start_date = pd.Timestamp('2019-01-01', tz='America/New_York').isoformat()\n",
    "end_date = pd.Timestamp('2020-01-02', tz='America/New_York').isoformat()\n",
    "df = api.get_barset(\n",
    "    list_of_tickers,\n",
    "    timeframe,\n",
    "    limit=None,\n",
    "    start=start_date,\n",
    "    end=end_date,\n",
    "    after=None,\n",
    "    until=None,\n",
    ").df\n",
    "df = df.sort_index()\n",
    "df.drop(columns=['open', 'high', 'low', 'volume'], level=1, inplace=True)\n",
    "df = df.droplevel(axis=1, level=1)\n",
    "df.index = df.index.date\n",
    "df.dropna(inplace=True)\n",
    "df.head()"
   ]
  },
  {
   "cell_type": "code",
   "execution_count": 5,
   "metadata": {},
   "outputs": [
    {
     "data": {
      "text/plain": [
       "AGG    253\n",
       "SPY    253\n",
       "dtype: int64"
      ]
     },
     "execution_count": 5,
     "metadata": {},
     "output_type": "execute_result"
    }
   ],
   "source": [
    "df.count()"
   ]
  },
  {
   "cell_type": "markdown",
   "metadata": {},
   "source": [
    "# Monte Carlo Simulation\n",
    "\n",
    "In this step, you will run Monte Carlo Simulations for your portfolio to model portfolio performance at different retirement ages. \n",
    "\n",
    "Complete the following steps:\n",
    "1. Calculate the daily returns for the SPY and AGG closing prices.\n",
    "2. Calculate volatility for both the SPY and AGG closing prices.\n",
    "3. Find the last day's closing price for both stocks and save those as variables.\n",
    "4. Run a Monte Carlo Simulation of at least 500 iterations and generate at least 30 years of closing prices\n",
    "\n",
    "### HINTS:\n",
    "There are 252 trading days per year, so the number of records to generate for each Monte Carlo run will be 252 days * 30 years"
   ]
  },
  {
   "cell_type": "code",
   "execution_count": 6,
   "metadata": {},
   "outputs": [
    {
     "name": "stdout",
     "output_type": "stream",
     "text": [
      "AGG mean: 0.00022270586670078947\n",
      "Spy mean: 0.0010721152074640258\n"
     ]
    }
   ],
   "source": [
    "# Calculate the daily roi for the stocks\n",
    "# YOUR CODE HERE\n",
    "daily_returns = df.pct_change()\n",
    "daily_returns.dropna(inplace=True)\n",
    "daily_returns.head()\n",
    "agg_mean = daily_returns.mean()['AGG']\n",
    "spy_mean = daily_returns.mean()['SPY']\n",
    "print('AGG mean:',agg_mean)\n",
    "print('Spy mean:',spy_mean)"
   ]
  },
  {
   "cell_type": "code",
   "execution_count": 7,
   "metadata": {},
   "outputs": [
    {
     "name": "stdout",
     "output_type": "stream",
     "text": [
      "AGG std: 0.0020916117982658737\n",
      "Spy std: 0.007820964517970708\n"
     ]
    }
   ],
   "source": [
    "# Calculate volatility\n",
    "# YOUR CODE HERE\n",
    "\n",
    "agg_std = daily_returns.std()['AGG']\n",
    "spy_std = daily_returns.std()['SPY']\n",
    "print('AGG std:',agg_std)\n",
    "print('Spy std:',spy_std)"
   ]
  },
  {
   "cell_type": "code",
   "execution_count": 8,
   "metadata": {},
   "outputs": [],
   "source": [
    "# Save the last day's closing price\n",
    "# YOUR CODE HERE\n",
    "agg_last_day = df['AGG'][-1]\n",
    "spy_last_day = df['SPY'][-1]"
   ]
  },
  {
   "cell_type": "code",
   "execution_count": 9,
   "metadata": {},
   "outputs": [],
   "source": [
    "# Setup the Monte Carlo Parameters\n",
    "number_simulations = 500\n",
    "number_records = 252 * 30\n",
    "monte_carlo = pd.DataFrame()"
   ]
  },
  {
   "cell_type": "code",
   "execution_count": 10,
   "metadata": {},
   "outputs": [],
   "source": [
    "# Run the Monte Carlo Simulation\n",
    "for x in range(number_simulations):\n",
    "    # YOUR CODE HERE\n",
    "    \n",
    "    # Initialize the simulated prices list with the last closing price of AGG and SPY\n",
    "    simulated_agg_prices = [agg_last_day]\n",
    "    simulated_spy_prices = [spy_last_day]\n",
    "    \n",
    "    for i in range(number_records):\n",
    "        \n",
    "        simulated_price_agg = simulated_agg_prices[-1] * (1 + np.random.normal(agg_mean, agg_std))\n",
    "        simulated_price_spy = simulated_spy_prices[-1] * (1 + np.random.normal(spy_mean, spy_std))\n",
    "\n",
    "        simulated_agg_prices.append(simulated_price_agg)\n",
    "        simulated_spy_prices.append(simulated_price_spy)\n",
    "    \n",
    "    weights = [0.6,0.4]\n",
    "    simulated_prices = pd.DataFrame()\n",
    "    simulated_prices['AGG'] = pd.Series(simulated_agg_prices)\n",
    "    simulated_prices['SPY'] = pd.Series(simulated_spy_prices)\n",
    "    \n",
    "    simulated_dr = simulated_prices.pct_change()\n",
    "    simulated_dr.dropna(inplace=True)\n",
    "\n",
    "    portfolio_daily_returns = simulated_dr.dot(weights)\n",
    "    \n",
    "    \n",
    "    monte_carlo[x] = (1+portfolio_daily_returns.fillna(0)).cumprod()\n",
    "    \n",
    "\n",
    "    "
   ]
  },
  {
   "cell_type": "code",
   "execution_count": 11,
   "metadata": {},
   "outputs": [
    {
     "data": {
      "text/html": [
       "<div>\n",
       "<style scoped>\n",
       "    .dataframe tbody tr th:only-of-type {\n",
       "        vertical-align: middle;\n",
       "    }\n",
       "\n",
       "    .dataframe tbody tr th {\n",
       "        vertical-align: top;\n",
       "    }\n",
       "\n",
       "    .dataframe thead th {\n",
       "        text-align: right;\n",
       "    }\n",
       "</style>\n",
       "<table border=\"1\" class=\"dataframe\">\n",
       "  <thead>\n",
       "    <tr style=\"text-align: right;\">\n",
       "      <th></th>\n",
       "      <th>0</th>\n",
       "      <th>1</th>\n",
       "      <th>2</th>\n",
       "      <th>3</th>\n",
       "      <th>4</th>\n",
       "      <th>5</th>\n",
       "      <th>6</th>\n",
       "      <th>7</th>\n",
       "      <th>8</th>\n",
       "      <th>9</th>\n",
       "      <th>...</th>\n",
       "      <th>490</th>\n",
       "      <th>491</th>\n",
       "      <th>492</th>\n",
       "      <th>493</th>\n",
       "      <th>494</th>\n",
       "      <th>495</th>\n",
       "      <th>496</th>\n",
       "      <th>497</th>\n",
       "      <th>498</th>\n",
       "      <th>499</th>\n",
       "    </tr>\n",
       "  </thead>\n",
       "  <tbody>\n",
       "    <tr>\n",
       "      <th>7556</th>\n",
       "      <td>68.128227</td>\n",
       "      <td>61.614732</td>\n",
       "      <td>65.210741</td>\n",
       "      <td>56.338417</td>\n",
       "      <td>64.618861</td>\n",
       "      <td>107.468160</td>\n",
       "      <td>46.082652</td>\n",
       "      <td>76.973352</td>\n",
       "      <td>66.304854</td>\n",
       "      <td>60.857870</td>\n",
       "      <td>...</td>\n",
       "      <td>60.234544</td>\n",
       "      <td>73.738344</td>\n",
       "      <td>66.154777</td>\n",
       "      <td>58.904140</td>\n",
       "      <td>75.564105</td>\n",
       "      <td>119.151790</td>\n",
       "      <td>56.416964</td>\n",
       "      <td>119.203969</td>\n",
       "      <td>59.121452</td>\n",
       "      <td>63.254574</td>\n",
       "    </tr>\n",
       "    <tr>\n",
       "      <th>7557</th>\n",
       "      <td>68.024021</td>\n",
       "      <td>61.255813</td>\n",
       "      <td>65.126801</td>\n",
       "      <td>56.329388</td>\n",
       "      <td>64.638935</td>\n",
       "      <td>107.448092</td>\n",
       "      <td>45.871245</td>\n",
       "      <td>77.471021</td>\n",
       "      <td>66.272901</td>\n",
       "      <td>60.548412</td>\n",
       "      <td>...</td>\n",
       "      <td>60.109618</td>\n",
       "      <td>73.592508</td>\n",
       "      <td>66.274885</td>\n",
       "      <td>58.633344</td>\n",
       "      <td>75.587441</td>\n",
       "      <td>119.795140</td>\n",
       "      <td>56.582660</td>\n",
       "      <td>119.482241</td>\n",
       "      <td>59.325123</td>\n",
       "      <td>63.122794</td>\n",
       "    </tr>\n",
       "    <tr>\n",
       "      <th>7558</th>\n",
       "      <td>67.849049</td>\n",
       "      <td>61.214621</td>\n",
       "      <td>65.404374</td>\n",
       "      <td>56.391254</td>\n",
       "      <td>64.528897</td>\n",
       "      <td>107.766493</td>\n",
       "      <td>45.904687</td>\n",
       "      <td>77.685883</td>\n",
       "      <td>66.539086</td>\n",
       "      <td>60.537990</td>\n",
       "      <td>...</td>\n",
       "      <td>60.133719</td>\n",
       "      <td>73.797617</td>\n",
       "      <td>66.424448</td>\n",
       "      <td>58.558294</td>\n",
       "      <td>75.889840</td>\n",
       "      <td>119.754270</td>\n",
       "      <td>56.584141</td>\n",
       "      <td>118.807294</td>\n",
       "      <td>59.110319</td>\n",
       "      <td>63.159520</td>\n",
       "    </tr>\n",
       "    <tr>\n",
       "      <th>7559</th>\n",
       "      <td>67.753847</td>\n",
       "      <td>61.252417</td>\n",
       "      <td>65.500759</td>\n",
       "      <td>56.496694</td>\n",
       "      <td>64.896049</td>\n",
       "      <td>107.508643</td>\n",
       "      <td>45.834584</td>\n",
       "      <td>77.587072</td>\n",
       "      <td>66.313293</td>\n",
       "      <td>60.473187</td>\n",
       "      <td>...</td>\n",
       "      <td>60.261858</td>\n",
       "      <td>74.087832</td>\n",
       "      <td>66.093076</td>\n",
       "      <td>58.511304</td>\n",
       "      <td>76.178628</td>\n",
       "      <td>119.536533</td>\n",
       "      <td>56.729005</td>\n",
       "      <td>118.593421</td>\n",
       "      <td>58.916716</td>\n",
       "      <td>62.987566</td>\n",
       "    </tr>\n",
       "    <tr>\n",
       "      <th>7560</th>\n",
       "      <td>68.180864</td>\n",
       "      <td>61.503161</td>\n",
       "      <td>66.021304</td>\n",
       "      <td>56.693525</td>\n",
       "      <td>64.969116</td>\n",
       "      <td>107.552546</td>\n",
       "      <td>45.638122</td>\n",
       "      <td>77.455409</td>\n",
       "      <td>65.979626</td>\n",
       "      <td>60.438780</td>\n",
       "      <td>...</td>\n",
       "      <td>60.422631</td>\n",
       "      <td>73.947978</td>\n",
       "      <td>65.943788</td>\n",
       "      <td>58.687369</td>\n",
       "      <td>76.316921</td>\n",
       "      <td>119.560872</td>\n",
       "      <td>56.670255</td>\n",
       "      <td>117.936024</td>\n",
       "      <td>58.983260</td>\n",
       "      <td>63.217700</td>\n",
       "    </tr>\n",
       "  </tbody>\n",
       "</table>\n",
       "<p>5 rows × 500 columns</p>\n",
       "</div>"
      ],
      "text/plain": [
       "            0          1          2          3          4           5    \\\n",
       "7556  68.128227  61.614732  65.210741  56.338417  64.618861  107.468160   \n",
       "7557  68.024021  61.255813  65.126801  56.329388  64.638935  107.448092   \n",
       "7558  67.849049  61.214621  65.404374  56.391254  64.528897  107.766493   \n",
       "7559  67.753847  61.252417  65.500759  56.496694  64.896049  107.508643   \n",
       "7560  68.180864  61.503161  66.021304  56.693525  64.969116  107.552546   \n",
       "\n",
       "            6          7          8          9    ...        490        491  \\\n",
       "7556  46.082652  76.973352  66.304854  60.857870  ...  60.234544  73.738344   \n",
       "7557  45.871245  77.471021  66.272901  60.548412  ...  60.109618  73.592508   \n",
       "7558  45.904687  77.685883  66.539086  60.537990  ...  60.133719  73.797617   \n",
       "7559  45.834584  77.587072  66.313293  60.473187  ...  60.261858  74.087832   \n",
       "7560  45.638122  77.455409  65.979626  60.438780  ...  60.422631  73.947978   \n",
       "\n",
       "            492        493        494         495        496         497  \\\n",
       "7556  66.154777  58.904140  75.564105  119.151790  56.416964  119.203969   \n",
       "7557  66.274885  58.633344  75.587441  119.795140  56.582660  119.482241   \n",
       "7558  66.424448  58.558294  75.889840  119.754270  56.584141  118.807294   \n",
       "7559  66.093076  58.511304  76.178628  119.536533  56.729005  118.593421   \n",
       "7560  65.943788  58.687369  76.316921  119.560872  56.670255  117.936024   \n",
       "\n",
       "            498        499  \n",
       "7556  59.121452  63.254574  \n",
       "7557  59.325123  63.122794  \n",
       "7558  59.110319  63.159520  \n",
       "7559  58.916716  62.987566  \n",
       "7560  58.983260  63.217700  \n",
       "\n",
       "[5 rows x 500 columns]"
      ]
     },
     "execution_count": 11,
     "metadata": {},
     "output_type": "execute_result"
    }
   ],
   "source": [
    "monte_carlo.tail()"
   ]
  },
  {
   "cell_type": "code",
   "execution_count": 12,
   "metadata": {},
   "outputs": [
    {
     "data": {
      "text/plain": [
       "<matplotlib.axes._subplots.AxesSubplot at 0x11e90d590>"
      ]
     },
     "execution_count": 12,
     "metadata": {},
     "output_type": "execute_result"
    },
    {
     "data": {
      "image/png": "[encoded data removed]",
      "text/plain": [
       "<Figure size 432x288 with 1 Axes>"
      ]
     },
     "metadata": {
      "needs_background": "light"
     },
     "output_type": "display_data"
    }
   ],
   "source": [
    "# Visualize the Simulation\n",
    "# YOUR CODE HERE\n",
    "monte_carlo.plot(legend=None, title='{number_simulations} Monte Carlo Simulations 60/40 portfolio of AGG and SPY')"
   ]
  },
  {
   "cell_type": "code",
   "execution_count": 13,
   "metadata": {},
   "outputs": [
    {
     "data": {
      "text/plain": [
       "0       68.180864\n",
       "1       61.503161\n",
       "2       66.021304\n",
       "3       56.693525\n",
       "4       64.969116\n",
       "          ...    \n",
       "495    119.560872\n",
       "496     56.670255\n",
       "497    117.936024\n",
       "498     58.983260\n",
       "499     63.217700\n",
       "Name: 7560, Length: 500, dtype: float64"
      ]
     },
     "execution_count": 13,
     "metadata": {},
     "output_type": "execute_result"
    }
   ],
   "source": [
    "# Select the last row for the cumulative returns (cumulative returns at 30 years)\n",
    "# YOUR CODE HERE\n",
    "cumulative_return_last30 = monte_carlo.iloc[-1]\n",
    "cumulative_return_last30"
   ]
  },
  {
   "cell_type": "code",
   "execution_count": 14,
   "metadata": {},
   "outputs": [
    {
     "data": {
      "text/plain": [
       "0      16.197499\n",
       "1      15.604881\n",
       "2      14.076241\n",
       "3      13.846569\n",
       "4      21.075151\n",
       "         ...    \n",
       "495    26.551382\n",
       "496    16.952731\n",
       "497    27.740591\n",
       "498    11.922788\n",
       "499    17.867672\n",
       "Name: 5041, Length: 500, dtype: float64"
      ]
     },
     "execution_count": 14,
     "metadata": {},
     "output_type": "execute_result"
    }
   ],
   "source": [
    "# Select the last row for the cumulative returns (cumulative returns at 20 years)\n",
    "# YOUR CODE HERE\n",
    "cumulative_return_last20 = monte_carlo.iloc[252*20]\n",
    "cumulative_return_last20"
   ]
  },
  {
   "cell_type": "code",
   "execution_count": 15,
   "metadata": {},
   "outputs": [
    {
     "data": {
      "text/plain": [
       "0.05     42.777984\n",
       "0.95    104.819157\n",
       "Name: 7560, dtype: float64"
      ]
     },
     "execution_count": 15,
     "metadata": {},
     "output_type": "execute_result"
    }
   ],
   "source": [
    "# Display the 90% confidence interval for the ending returns\n",
    "# YOUR CODE HERE\n",
    "confidence_interval = cumulative_return_last30.quantile([0.05,0.95])\n",
    "confidence_interval"
   ]
  },
  {
   "cell_type": "code",
   "execution_count": 16,
   "metadata": {},
   "outputs": [
    {
     "data": {
      "text/plain": [
       "<matplotlib.lines.Line2D at 0x12f43fa50>"
      ]
     },
     "execution_count": 16,
     "metadata": {},
     "output_type": "execute_result"
    },
    {
     "data": {
      "image/png": "[encoded data removed]",
      "text/plain": [
       "<Figure size 432x288 with 1 Axes>"
      ]
     },
     "metadata": {
      "needs_background": "light"
     },
     "output_type": "display_data"
    }
   ],
   "source": [
    "# Visualize the distribution of the ending returns\n",
    "# YOUR CODE HERE\n",
    "plt.figure()\n",
    "cumulative_return_last30.plot.hist(title=\"90% confidence interval for tails\")\n",
    "plt.axvline(confidence_interval.iloc[0], color='r')\n",
    "plt.axvline(confidence_interval.iloc[1], color='r')"
   ]
  },
  {
   "cell_type": "markdown",
   "metadata": {},
   "source": [
    "---"
   ]
  },
  {
   "cell_type": "markdown",
   "metadata": {},
   "source": [
    "# Retirement Analysis\n",
    "\n",
    "In this section, you will use the monte carlo model to answer the following retirement planning questions:\n",
    "\n",
    "1. What are the expected cumulative returns at 30 years for the 10th, 50th, and 90th percentiles?\n",
    "2. Given an initial investment of `$20,000`, what is the expected portfolio return in dollars at the 10th, 50th, and 90th percentiles?\n",
    "3. Given the current projected annual income from the Plaid analysis, will a 4% withdraw rate from the retirement portfolio meet or exceed that value at the 10th percentile?\n",
    "4. How would a 50% increase in the initial investment amount affect the 4% retirement withdrawal?"
   ]
  },
  {
   "cell_type": "markdown",
   "metadata": {},
   "source": [
    "### What are the expected cumulative returns at 30 years for the 10th, 50th, and 90th percentiles?"
   ]
  },
  {
   "cell_type": "code",
   "execution_count": 17,
   "metadata": {},
   "outputs": [
    {
     "name": "stdout",
     "output_type": "stream",
     "text": [
      " expected cumulative returns at 30 years for the 10th: 46.3\n",
      " expected cumulative returns at 30 years for the 50th: 67.87\n",
      " expected cumulative returns at 30 years for the 90th: 95.64\n"
     ]
    }
   ],
   "source": [
    "# YOUR CODE HERE\n",
    "ten_perc = np.percentile(cumulative_return_last30,10)\n",
    "fifty_perc = np.percentile(cumulative_return_last30,50)\n",
    "ninety_perc = np.percentile(cumulative_return_last30,90)\n",
    "print(f' expected cumulative returns at 30 years for the 10th: {round(ten_perc,2)}')\n",
    "print(f' expected cumulative returns at 30 years for the 50th: {round(fifty_perc,2)}')\n",
    "print(f' expected cumulative returns at 30 years for the 90th: {round(ninety_perc,2)}')\n"
   ]
  },
  {
   "cell_type": "markdown",
   "metadata": {},
   "source": [
    "### Given an initial investment of `$20,000`, what is the expected portfolio return in dollars at the 10th, 50th, and 90th percentiles?"
   ]
  },
  {
   "cell_type": "code",
   "execution_count": 18,
   "metadata": {},
   "outputs": [
    {
     "name": "stdout",
     "output_type": "stream",
     "text": [
      "Expected portfolio return in dollars at the 10th: $926057.5\n",
      "Expected portfolio return in dollars at the 50th: $1357411.31\n",
      "Expected portfolio return in dollars at the 10th: $1912779.02\n"
     ]
    }
   ],
   "source": [
    "# YOUR CODE HERE\n",
    "init_invest = 20000.0\n",
    "expected_10 = init_invest * ten_perc\n",
    "expected_50 = init_invest * fifty_perc\n",
    "expected_90 = init_invest * ninety_perc\n",
    "print(f'Expected portfolio return in dollars at the 10th: ${round(expected_10,2)}')\n",
    "print(f'Expected portfolio return in dollars at the 50th: ${round(expected_50,2)}')\n",
    "print(f'Expected portfolio return in dollars at the 10th: ${round(expected_90,2)}')"
   ]
  },
  {
   "cell_type": "markdown",
   "metadata": {},
   "source": [
    "### Given the current projected annual income from the Plaid analysis, will a 4% withdraw rate from the retirement portfolio meet or exceed that value at the 10th percentile?\n",
    "\n",
    "Note: This is effectively saying that 90% of the expected returns will be greater than the return at the 10th percentile, so this can help measure the uncertainty about having enough funds at retirement"
   ]
  },
  {
   "cell_type": "code",
   "execution_count": 19,
   "metadata": {},
   "outputs": [
    {
     "name": "stdout",
     "output_type": "stream",
     "text": [
      "4% withdraw rate: $37042.30008744132\n",
      "Yes\n"
     ]
    }
   ],
   "source": [
    "# YOUR CODE HERE\n",
    "proj_income = 7389.0\n",
    "wd_amount = 0.04 * (init_invest * np.quantile(cumulative_return_last30, 0.1)) \n",
    "print(f'4% withdraw rate: ${wd_amount}')\n",
    "if wd_amount >= proj_income:\n",
    "    print('Yes')\n",
    "else:\n",
    "    print('No')"
   ]
  },
  {
   "cell_type": "markdown",
   "metadata": {},
   "source": [
    "### How would a 50% increase in the initial investment amount affect the 4% retirement withdrawal?"
   ]
  },
  {
   "cell_type": "code",
   "execution_count": 20,
   "metadata": {},
   "outputs": [
    {
     "name": "stdout",
     "output_type": "stream",
     "text": [
      "4% withdraw rate (+50%): $55563.450131161975\n",
      "Yes\n"
     ]
    }
   ],
   "source": [
    "# YOUR CODE HERE\n",
    "# YOUR CODE HERE\n",
    "proj_income = 7389.0\n",
    "wd_amount = 0.04 * (init_invest * 1.5 * np.quantile(cumulative_return_last30, 0.1)) \n",
    "print(f'4% withdraw rate (+50%): ${wd_amount}')\n",
    "if wd_amount >= proj_income:\n",
    "    print('Yes')\n",
    "else:\n",
    "    print('No')"
   ]
  },
  {
   "cell_type": "markdown",
   "metadata": {},
   "source": [
    "### Optional Challenge\n",
    "\n",
    "In this section, you will calculate and plot the cumulative returns for the median and 90% confidence intervals. This plot shows the expected cumulative returns for any given day between the first day and the last day of investment. "
   ]
  },
  {
   "cell_type": "code",
   "execution_count": 21,
   "metadata": {},
   "outputs": [
    {
     "data": {
      "text/plain": [
       "<matplotlib.legend.Legend at 0x12f64a1d0>"
      ]
     },
     "execution_count": 21,
     "metadata": {},
     "output_type": "execute_result"
    },
    {
     "data": {
      "image/png": "[encoded data removed]",
      "text/plain": [
       "<Figure size 432x288 with 1 Axes>"
      ]
     },
     "metadata": {
      "needs_background": "light"
     },
     "output_type": "display_data"
    }
   ],
   "source": [
    "# YOUR CODE HERE\n",
    "quant_df=monte_carlo.quantile(q=[0.05,0.5,0.95],axis=1)\n",
    "invest_df=pd.DataFrame(quant_df*init_invest)\n",
    "fig = quant_df.iloc[0].plot()\n",
    "fig.plot(quant_df.iloc[1])\n",
    "fig.plot(quant_df.iloc[2])\n",
    "fig.legend(['5th','median','95th'])"
   ]
  },
  {
   "cell_type": "code",
   "execution_count": null,
   "metadata": {},
   "outputs": [],
   "source": []
  }
 ],
 "metadata": {
  "kernel_info": {
   "name": "dev"
  },
  "kernelspec": {
   "display_name": "Python 3",
   "language": "python",
   "name": "python3"
  },
  "language_info": {
   "codemirror_mode": {
    "name": "ipython",
    "version": 3
   },
   "file_extension": ".py",
   "mimetype": "text/x-python",
   "name": "python",
   "nbconvert_exporter": "python",
   "pygments_lexer": "ipython3",
   "version": "3.7.6"
  },
  "nteract": {
   "version": "0.12.3"
  }
 },
 "nbformat": 4,
 "nbformat_minor": 4
}
