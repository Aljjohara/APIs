{
 "cells": [
  {
   "cell_type": "code",
   "execution_count": 1,
   "metadata": {},
   "outputs": [],
   "source": [
    "# Import libraries and dependencies\n",
    "import numpy as np\n",
    "import pandas as pd\n",
    "import os\n",
    "from datetime import datetime, timedelta\n",
    "import matplotlib.pyplot as plt\n",
    "import alpaca_trade_api as tradeapi\n",
    "%matplotlib inline"
   ]
  },
  {
   "cell_type": "code",
   "execution_count": 2,
   "metadata": {},
   "outputs": [],
   "source": [
    "np.random.seed(42)"
   ]
  },
  {
   "cell_type": "markdown",
   "metadata": {},
   "source": [
    "# Portfolio Planner\n",
    "\n",
    "In this activity, you will use the Alpaca api to grab historical data for a 60/40 portfolio using `SPY` to represent the stock portion and `AGG` to represent the bonds."
   ]
  },
  {
   "cell_type": "code",
   "execution_count": 3,
   "metadata": {},
   "outputs": [],
   "source": [
    "# Load .env enviroment variables\n",
    "from dotenv import load_dotenv\n",
    "load_dotenv()\n",
    "\n",
    "# Set Alpaca API key and secret\n",
    "alpaca_api_key = os.getenv(\"ALPACA_API_KEY\")\n",
    "alpaca_secret_key = os.getenv(\"ALPACA_SECRET_KEY\")\n",
    "\n",
    "# api = tradeapi.REST()\n",
    "api = tradeapi.REST(alpaca_api_key, alpaca_secret_key, api_version='v2')"
   ]
  },
  {
   "cell_type": "markdown",
   "metadata": {},
   "source": [
    "# Data Collection\n",
    "\n",
    "In this step, you will need to use the Alpaca api to fetch closing prices for the `SPY` and `AGG` tickers. Save the results as a pandas DataFrame"
   ]
  },
  {
   "cell_type": "code",
   "execution_count": 4,
   "metadata": {},
   "outputs": [
    {
     "data": {
      "text/html": [
       "<div>\n",
       "<style scoped>\n",
       "    .dataframe tbody tr th:only-of-type {\n",
       "        vertical-align: middle;\n",
       "    }\n",
       "\n",
       "    .dataframe tbody tr th {\n",
       "        vertical-align: top;\n",
       "    }\n",
       "\n",
       "    .dataframe thead th {\n",
       "        text-align: right;\n",
       "    }\n",
       "</style>\n",
       "<table border=\"1\" class=\"dataframe\">\n",
       "  <thead>\n",
       "    <tr style=\"text-align: right;\">\n",
       "      <th></th>\n",
       "      <th>AGG</th>\n",
       "      <th>SPY</th>\n",
       "    </tr>\n",
       "  </thead>\n",
       "  <tbody>\n",
       "    <tr>\n",
       "      <th>2019-01-02</th>\n",
       "      <td>106.585</td>\n",
       "      <td>249.89</td>\n",
       "    </tr>\n",
       "    <tr>\n",
       "      <th>2019-01-03</th>\n",
       "      <td>107.020</td>\n",
       "      <td>244.46</td>\n",
       "    </tr>\n",
       "    <tr>\n",
       "      <th>2019-01-04</th>\n",
       "      <td>106.695</td>\n",
       "      <td>252.41</td>\n",
       "    </tr>\n",
       "    <tr>\n",
       "      <th>2019-01-07</th>\n",
       "      <td>106.470</td>\n",
       "      <td>254.40</td>\n",
       "    </tr>\n",
       "    <tr>\n",
       "      <th>2019-01-08</th>\n",
       "      <td>106.420</td>\n",
       "      <td>256.65</td>\n",
       "    </tr>\n",
       "  </tbody>\n",
       "</table>\n",
       "</div>"
      ],
      "text/plain": [
       "                AGG     SPY\n",
       "2019-01-02  106.585  249.89\n",
       "2019-01-03  107.020  244.46\n",
       "2019-01-04  106.695  252.41\n",
       "2019-01-07  106.470  254.40\n",
       "2019-01-08  106.420  256.65"
      ]
     },
     "execution_count": 4,
     "metadata": {},
     "output_type": "execute_result"
    }
   ],
   "source": [
    "# YOUR CODE HERE\n",
    "# Set the ticker\n",
    "list_of_tickers = [\"SPY\", \"AGG\"]\n",
    "# Set timeframe to '1D'\n",
    "timeframe = '1D'\n",
    "\n",
    "# Set start and end datetimes of 1 year, between now and 365 days ago.\n",
    "#end_date = datetime.now()\n",
    "#start_date = end_date + timedelta(-365*100)\n",
    "\n",
    "start_date = pd.Timestamp('2019-01-01', tz='America/New_York').isoformat()\n",
    "end_date = pd.Timestamp('2020-01-02', tz='America/New_York').isoformat()\n",
    "df = api.get_barset(\n",
    "    list_of_tickers,\n",
    "    timeframe,\n",
    "    limit=None,\n",
    "    start=start_date,\n",
    "    end=end_date,\n",
    "    after=None,\n",
    "    until=None,\n",
    ").df\n",
    "df = df.sort_index()\n",
    "df.drop(columns=['open', 'high', 'low', 'volume'], level=1, inplace=True)\n",
    "df = df.droplevel(axis=1, level=1)\n",
    "df.index = df.index.date\n",
    "df.dropna(inplace=True)\n",
    "df.head()"
   ]
  },
  {
   "cell_type": "code",
   "execution_count": 5,
   "metadata": {},
   "outputs": [
    {
     "data": {
      "text/plain": [
       "AGG    253\n",
       "SPY    253\n",
       "dtype: int64"
      ]
     },
     "execution_count": 5,
     "metadata": {},
     "output_type": "execute_result"
    }
   ],
   "source": [
    "df.count()"
   ]
  },
  {
   "cell_type": "markdown",
   "metadata": {},
   "source": [
    "# Monte Carlo Simulation\n",
    "\n",
    "In this step, you will run Monte Carlo Simulations for your portfolio to model portfolio performance at different retirement ages. \n",
    "\n",
    "Complete the following steps:\n",
    "1. Calculate the daily returns for the SPY and AGG closing prices.\n",
    "2. Calculate volatility for both the SPY and AGG closing prices.\n",
    "3. Find the last day's closing price for both stocks and save those as variables.\n",
    "4. Run a Monte Carlo Simulation of at least 500 iterations and generate at least 30 years of closing prices\n",
    "\n",
    "### HINTS:\n",
    "There are 252 trading days per year, so the number of records to generate for each Monte Carlo run will be 252 days * 30 years"
   ]
  },
  {
   "cell_type": "code",
   "execution_count": 6,
   "metadata": {},
   "outputs": [
    {
     "name": "stdout",
     "output_type": "stream",
     "text": [
      "AGG mean: 0.00022270586670078947\n",
      "Spy mean: 0.0010721152074640258\n"
     ]
    }
   ],
   "source": [
    "# Calculate the daily roi for the stocks\n",
    "# YOUR CODE HERE\n",
    "daily_returns = df.pct_change()\n",
    "daily_returns.dropna(inplace=True)\n",
    "daily_returns.head()\n",
    "agg_mean = daily_returns.mean()['AGG']\n",
    "spy_mean = daily_returns.mean()['SPY']\n",
    "print('AGG mean:',agg_mean)\n",
    "print('Spy mean:',spy_mean)"
   ]
  },
  {
   "cell_type": "code",
   "execution_count": 7,
   "metadata": {},
   "outputs": [
    {
     "name": "stdout",
     "output_type": "stream",
     "text": [
      "AGG std: 0.0020916117982658737\n",
      "Spy std: 0.007820964517970708\n"
     ]
    }
   ],
   "source": [
    "# Calculate volatility\n",
    "# YOUR CODE HERE\n",
    "\n",
    "agg_std = daily_returns.std()['AGG']\n",
    "spy_std = daily_returns.std()['SPY']\n",
    "print('AGG std:',agg_std)\n",
    "print('Spy std:',spy_std)"
   ]
  },
  {
   "cell_type": "code",
   "execution_count": 8,
   "metadata": {},
   "outputs": [],
   "source": [
    "# Save the last day's closing price\n",
    "# YOUR CODE HERE\n",
    "agg_last_day = df['AGG'][-1]\n",
    "spy_last_day = df['SPY'][-1]"
   ]
  },
  {
   "cell_type": "code",
   "execution_count": 35,
   "metadata": {},
   "outputs": [],
   "source": [
    "# Setup the Monte Carlo Parameters\n",
    "number_simulations = 500\n",
    "number_records = 252 * 30\n",
    "monte_carlo = pd.DataFrame()"
   ]
  },
  {
   "cell_type": "code",
   "execution_count": 36,
   "metadata": {},
   "outputs": [],
   "source": [
    "# Run the Monte Carlo Simulation\n",
    "for x in range(number_simulations):\n",
    "    # YOUR CODE HERE\n",
    "    \n",
    "    # Initialize the simulated prices list with the last closing price of AGG and SPY\n",
    "    simulated_agg_prices = [agg_last_day]\n",
    "    simulated_spy_prices = [spy_last_day]\n",
    "    \n",
    "    for i in range(number_records):\n",
    "        \n",
    "        simulated_price_agg = simulated_agg_prices[-1] * (1 + np.random.normal(agg_mean, agg_std))\n",
    "        simulated_price_spy = simulated_spy_prices[-1] * (1 + np.random.normal(spy_mean, spy_std))\n",
    "\n",
    "        simulated_agg_prices.append(simulated_price_agg)\n",
    "        simulated_spy_prices.append(simulated_price_spy)\n",
    "    \n",
    "    weights = [0.6,0.4]\n",
    "    simulated_prices = pd.DataFrame()\n",
    "    simulated_prices['AGG'] = pd.Series(simulated_agg_prices)\n",
    "    simulated_prices['SPY'] = pd.Series(simulated_spy_prices)\n",
    "    \n",
    "    simulated_dr = simulated_prices.pct_change()\n",
    "    simulated_dr.dropna(inplace=True)\n",
    "\n",
    "    portfolio_daily_returns = simulated_dr.dot(weights)\n",
    "    \n",
    "    \n",
    "    monte_carlo[x] = (1+portfolio_daily_returns.fillna(0)).cumprod()\n",
    "    \n",
    "\n",
    "    "
   ]
  },
  {
   "cell_type": "code",
   "execution_count": 41,
   "metadata": {},
   "outputs": [
    {
     "data": {
      "text/html": [
       "<div>\n",
       "<style scoped>\n",
       "    .dataframe tbody tr th:only-of-type {\n",
       "        vertical-align: middle;\n",
       "    }\n",
       "\n",
       "    .dataframe tbody tr th {\n",
       "        vertical-align: top;\n",
       "    }\n",
       "\n",
       "    .dataframe thead th {\n",
       "        text-align: right;\n",
       "    }\n",
       "</style>\n",
       "<table border=\"1\" class=\"dataframe\">\n",
       "  <thead>\n",
       "    <tr style=\"text-align: right;\">\n",
       "      <th></th>\n",
       "      <th>0</th>\n",
       "      <th>1</th>\n",
       "      <th>2</th>\n",
       "      <th>3</th>\n",
       "      <th>4</th>\n",
       "      <th>5</th>\n",
       "      <th>6</th>\n",
       "      <th>7</th>\n",
       "      <th>8</th>\n",
       "      <th>9</th>\n",
       "      <th>...</th>\n",
       "      <th>490</th>\n",
       "      <th>491</th>\n",
       "      <th>492</th>\n",
       "      <th>493</th>\n",
       "      <th>494</th>\n",
       "      <th>495</th>\n",
       "      <th>496</th>\n",
       "      <th>497</th>\n",
       "      <th>498</th>\n",
       "      <th>499</th>\n",
       "    </tr>\n",
       "  </thead>\n",
       "  <tbody>\n",
       "    <tr>\n",
       "      <th>7556</th>\n",
       "      <td>70.689116</td>\n",
       "      <td>51.856924</td>\n",
       "      <td>51.216263</td>\n",
       "      <td>92.068426</td>\n",
       "      <td>44.577064</td>\n",
       "      <td>35.289005</td>\n",
       "      <td>111.556575</td>\n",
       "      <td>42.178467</td>\n",
       "      <td>109.332876</td>\n",
       "      <td>100.730923</td>\n",
       "      <td>...</td>\n",
       "      <td>56.779341</td>\n",
       "      <td>54.180995</td>\n",
       "      <td>69.372639</td>\n",
       "      <td>73.232950</td>\n",
       "      <td>65.904618</td>\n",
       "      <td>64.255271</td>\n",
       "      <td>78.490584</td>\n",
       "      <td>92.784103</td>\n",
       "      <td>58.327713</td>\n",
       "      <td>94.510585</td>\n",
       "    </tr>\n",
       "    <tr>\n",
       "      <th>7557</th>\n",
       "      <td>70.706495</td>\n",
       "      <td>51.979797</td>\n",
       "      <td>51.252876</td>\n",
       "      <td>91.685336</td>\n",
       "      <td>44.241217</td>\n",
       "      <td>35.316382</td>\n",
       "      <td>111.607547</td>\n",
       "      <td>42.106309</td>\n",
       "      <td>109.219341</td>\n",
       "      <td>100.963479</td>\n",
       "      <td>...</td>\n",
       "      <td>57.093423</td>\n",
       "      <td>53.921463</td>\n",
       "      <td>69.851990</td>\n",
       "      <td>73.502902</td>\n",
       "      <td>66.193370</td>\n",
       "      <td>64.414313</td>\n",
       "      <td>78.121217</td>\n",
       "      <td>93.338283</td>\n",
       "      <td>58.359242</td>\n",
       "      <td>94.156862</td>\n",
       "    </tr>\n",
       "    <tr>\n",
       "      <th>7558</th>\n",
       "      <td>70.406227</td>\n",
       "      <td>51.783704</td>\n",
       "      <td>51.519196</td>\n",
       "      <td>91.894337</td>\n",
       "      <td>44.095063</td>\n",
       "      <td>35.362574</td>\n",
       "      <td>111.918188</td>\n",
       "      <td>42.035512</td>\n",
       "      <td>109.263424</td>\n",
       "      <td>101.178426</td>\n",
       "      <td>...</td>\n",
       "      <td>57.218930</td>\n",
       "      <td>53.673144</td>\n",
       "      <td>69.683867</td>\n",
       "      <td>73.641029</td>\n",
       "      <td>66.364550</td>\n",
       "      <td>64.608369</td>\n",
       "      <td>78.181026</td>\n",
       "      <td>93.944667</td>\n",
       "      <td>58.395062</td>\n",
       "      <td>94.312787</td>\n",
       "    </tr>\n",
       "    <tr>\n",
       "      <th>7559</th>\n",
       "      <td>70.336655</td>\n",
       "      <td>51.930200</td>\n",
       "      <td>51.801861</td>\n",
       "      <td>91.600341</td>\n",
       "      <td>44.065001</td>\n",
       "      <td>35.374938</td>\n",
       "      <td>112.166704</td>\n",
       "      <td>41.926775</td>\n",
       "      <td>110.059330</td>\n",
       "      <td>101.294938</td>\n",
       "      <td>...</td>\n",
       "      <td>57.452084</td>\n",
       "      <td>53.438329</td>\n",
       "      <td>70.156159</td>\n",
       "      <td>74.143749</td>\n",
       "      <td>66.350466</td>\n",
       "      <td>64.648691</td>\n",
       "      <td>78.518517</td>\n",
       "      <td>94.445910</td>\n",
       "      <td>58.314362</td>\n",
       "      <td>94.204115</td>\n",
       "    </tr>\n",
       "    <tr>\n",
       "      <th>7560</th>\n",
       "      <td>70.289209</td>\n",
       "      <td>52.110285</td>\n",
       "      <td>51.716218</td>\n",
       "      <td>91.663023</td>\n",
       "      <td>43.900652</td>\n",
       "      <td>35.233886</td>\n",
       "      <td>111.524557</td>\n",
       "      <td>41.973221</td>\n",
       "      <td>109.760518</td>\n",
       "      <td>101.705341</td>\n",
       "      <td>...</td>\n",
       "      <td>57.553416</td>\n",
       "      <td>53.446278</td>\n",
       "      <td>70.333303</td>\n",
       "      <td>74.028875</td>\n",
       "      <td>66.235680</td>\n",
       "      <td>64.707661</td>\n",
       "      <td>78.625590</td>\n",
       "      <td>94.292237</td>\n",
       "      <td>58.552824</td>\n",
       "      <td>94.452277</td>\n",
       "    </tr>\n",
       "  </tbody>\n",
       "</table>\n",
       "<p>5 rows × 500 columns</p>\n",
       "</div>"
      ],
      "text/plain": [
       "            0          1          2          3          4          5    \\\n",
       "7556  70.689116  51.856924  51.216263  92.068426  44.577064  35.289005   \n",
       "7557  70.706495  51.979797  51.252876  91.685336  44.241217  35.316382   \n",
       "7558  70.406227  51.783704  51.519196  91.894337  44.095063  35.362574   \n",
       "7559  70.336655  51.930200  51.801861  91.600341  44.065001  35.374938   \n",
       "7560  70.289209  52.110285  51.716218  91.663023  43.900652  35.233886   \n",
       "\n",
       "             6          7           8           9    ...        490  \\\n",
       "7556  111.556575  42.178467  109.332876  100.730923  ...  56.779341   \n",
       "7557  111.607547  42.106309  109.219341  100.963479  ...  57.093423   \n",
       "7558  111.918188  42.035512  109.263424  101.178426  ...  57.218930   \n",
       "7559  112.166704  41.926775  110.059330  101.294938  ...  57.452084   \n",
       "7560  111.524557  41.973221  109.760518  101.705341  ...  57.553416   \n",
       "\n",
       "            491        492        493        494        495        496  \\\n",
       "7556  54.180995  69.372639  73.232950  65.904618  64.255271  78.490584   \n",
       "7557  53.921463  69.851990  73.502902  66.193370  64.414313  78.121217   \n",
       "7558  53.673144  69.683867  73.641029  66.364550  64.608369  78.181026   \n",
       "7559  53.438329  70.156159  74.143749  66.350466  64.648691  78.518517   \n",
       "7560  53.446278  70.333303  74.028875  66.235680  64.707661  78.625590   \n",
       "\n",
       "            497        498        499  \n",
       "7556  92.784103  58.327713  94.510585  \n",
       "7557  93.338283  58.359242  94.156862  \n",
       "7558  93.944667  58.395062  94.312787  \n",
       "7559  94.445910  58.314362  94.204115  \n",
       "7560  94.292237  58.552824  94.452277  \n",
       "\n",
       "[5 rows x 500 columns]"
      ]
     },
     "execution_count": 41,
     "metadata": {},
     "output_type": "execute_result"
    }
   ],
   "source": [
    "monte_carlo.tail()"
   ]
  },
  {
   "cell_type": "code",
   "execution_count": 39,
   "metadata": {},
   "outputs": [
    {
     "data": {
      "text/plain": [
       "<matplotlib.axes._subplots.AxesSubplot at 0x12e85c050>"
      ]
     },
     "execution_count": 39,
     "metadata": {},
     "output_type": "execute_result"
    },
    {
     "data": {
      "image/png": "[encoded data removed]",
      "text/plain": [
       "<Figure size 432x288 with 1 Axes>"
      ]
     },
     "metadata": {
      "needs_background": "light"
     },
     "output_type": "display_data"
    }
   ],
   "source": [
    "# Visualize the Simulation\n",
    "# YOUR CODE HERE\n",
    "monte_carlo.plot(legend=None, title='{number_simulations} Monte Carlo Simulations 60/40 portfolio of AGG and SPY')"
   ]
  },
  {
   "cell_type": "code",
   "execution_count": 49,
   "metadata": {},
   "outputs": [
    {
     "data": {
      "text/plain": [
       "0      70.289209\n",
       "1      52.110285\n",
       "2      51.716218\n",
       "3      91.663023\n",
       "4      43.900652\n",
       "         ...    \n",
       "495    64.707661\n",
       "496    78.625590\n",
       "497    94.292237\n",
       "498    58.552824\n",
       "499    94.452277\n",
       "Name: 7560, Length: 500, dtype: float64"
      ]
     },
     "execution_count": 49,
     "metadata": {},
     "output_type": "execute_result"
    }
   ],
   "source": [
    "# Select the last row for the cumulative returns (cumulative returns at 30 years)\n",
    "# YOUR CODE HERE\n",
    "cumulative_return_last30 = monte_carlo.iloc[-1]\n",
    "cumulative_return_last30"
   ]
  },
  {
   "cell_type": "code",
   "execution_count": 54,
   "metadata": {},
   "outputs": [
    {
     "data": {
      "text/plain": [
       "0      25.520360\n",
       "1      13.528630\n",
       "2      13.681945\n",
       "3      21.498567\n",
       "4      12.781827\n",
       "         ...    \n",
       "495    17.431882\n",
       "496    23.850205\n",
       "497    23.669069\n",
       "498    17.419316\n",
       "499    23.752259\n",
       "Name: 5041, Length: 500, dtype: float64"
      ]
     },
     "execution_count": 54,
     "metadata": {},
     "output_type": "execute_result"
    }
   ],
   "source": [
    "# Select the last row for the cumulative returns (cumulative returns at 20 years)\n",
    "# YOUR CODE HERE\n",
    "cumulative_return_last20 = monte_carlo.iloc[252*20]\n",
    "cumulative_return_last20"
   ]
  },
  {
   "cell_type": "code",
   "execution_count": 58,
   "metadata": {},
   "outputs": [
    {
     "data": {
      "text/plain": [
       "0.05     42.881488\n",
       "0.95    104.264354\n",
       "Name: 7560, dtype: float64"
      ]
     },
     "execution_count": 58,
     "metadata": {},
     "output_type": "execute_result"
    }
   ],
   "source": [
    "# Display the 90% confidence interval for the ending returns\n",
    "# YOUR CODE HERE\n",
    "confidence_interval = cumulative_return_last30.quantile([0.05,0.95])\n",
    "confidence_interval"
   ]
  },
  {
   "cell_type": "code",
   "execution_count": 65,
   "metadata": {},
   "outputs": [
    {
     "data": {
      "text/plain": [
       "<matplotlib.lines.Line2D at 0x11f5d50d0>"
      ]
     },
     "execution_count": 65,
     "metadata": {},
     "output_type": "execute_result"
    },
    {
     "data": {
      "image/png": "[encoded data removed]",
      "text/plain": [
       "<Figure size 432x288 with 1 Axes>"
      ]
     },
     "metadata": {
      "needs_background": "light"
     },
     "output_type": "display_data"
    }
   ],
   "source": [
    "# Visualize the distribution of the ending returns\n",
    "# YOUR CODE HERE\n",
    "plt.figure()\n",
    "cumulative_return_last30.plot.hist(title=\"90% confidence interval for tails\")\n",
    "plt.axvline(confidence_interval.iloc[0], color='r')\n",
    "plt.axvline(confidence_interval.iloc[1], color='r')"
   ]
  },
  {
   "cell_type": "markdown",
   "metadata": {},
   "source": [
    "---"
   ]
  },
  {
   "cell_type": "markdown",
   "metadata": {},
   "source": [
    "# Retirement Analysis\n",
    "\n",
    "In this section, you will use the monte carlo model to answer the following retirement planning questions:\n",
    "\n",
    "1. What are the expected cumulative returns at 30 years for the 10th, 50th, and 90th percentiles?\n",
    "2. Given an initial investment of `$20,000`, what is the expected portfolio return in dollars at the 10th, 50th, and 90th percentiles?\n",
    "3. Given the current projected annual income from the Plaid analysis, will a 4% withdraw rate from the retirement portfolio meet or exceed that value at the 10th percentile?\n",
    "4. How would a 50% increase in the initial investment amount affect the 4% retirement withdrawal?"
   ]
  },
  {
   "cell_type": "markdown",
   "metadata": {},
   "source": [
    "### What are the expected cumulative returns at 30 years for the 10th, 50th, and 90th percentiles?"
   ]
  },
  {
   "cell_type": "code",
   "execution_count": 73,
   "metadata": {},
   "outputs": [
    {
     "name": "stdout",
     "output_type": "stream",
     "text": [
      " expected cumulative returns at 30 years for the 10th: 46.73\n",
      " expected cumulative returns at 30 years for the 50th: 67.93\n",
      " expected cumulative returns at 30 years for the 90th: 95.39\n"
     ]
    }
   ],
   "source": [
    "# YOUR CODE HERE\n",
    "ten_perc = np.percentile(cumulative_return_last30,10)\n",
    "fifty_perc = np.percentile(cumulative_return_last30,50)\n",
    "ninety_perc = np.percentile(cumulative_return_last30,90)\n",
    "print(f' expected cumulative returns at 30 years for the 10th: {round(ten_perc,2)}')\n",
    "print(f' expected cumulative returns at 30 years for the 50th: {round(fifty_perc,2)}')\n",
    "print(f' expected cumulative returns at 30 years for the 90th: {round(ninety_perc,2)}')\n"
   ]
  },
  {
   "cell_type": "markdown",
   "metadata": {},
   "source": [
    "### Given an initial investment of `$20,000`, what is the expected portfolio return in dollars at the 10th, 50th, and 90th percentiles?"
   ]
  },
  {
   "cell_type": "code",
   "execution_count": 75,
   "metadata": {},
   "outputs": [
    {
     "name": "stdout",
     "output_type": "stream",
     "text": [
      "Expected portfolio return in dollars at the 10th: $934554.5\n",
      "Expected portfolio return in dollars at the 50th: $1358659.18\n",
      "Expected portfolio return in dollars at the 10th: $1907757.07\n"
     ]
    }
   ],
   "source": [
    "# YOUR CODE HERE\n",
    "init_invest = 20000.0\n",
    "expected_10 = init_invest * ten_perc\n",
    "expected_50 = init_invest * fifty_perc\n",
    "expected_90 = init_invest * ninety_perc\n",
    "print(f'Expected portfolio return in dollars at the 10th: ${round(expected_10,2)}')\n",
    "print(f'Expected portfolio return in dollars at the 50th: ${round(expected_50,2)}')\n",
    "print(f'Expected portfolio return in dollars at the 10th: ${round(expected_90,2)}')"
   ]
  },
  {
   "cell_type": "markdown",
   "metadata": {},
   "source": [
    "### Given the current projected annual income from the Plaid analysis, will a 4% withdraw rate from the retirement portfolio meet or exceed that value at the 10th percentile?\n",
    "\n",
    "Note: This is effectively saying that 90% of the expected returns will be greater than the return at the 10th percentile, so this can help measure the uncertainty about having enough funds at retirement"
   ]
  },
  {
   "cell_type": "code",
   "execution_count": null,
   "metadata": {},
   "outputs": [],
   "source": [
    "# YOUR CODE HERE\n",
    "proj_income = "
   ]
  },
  {
   "cell_type": "markdown",
   "metadata": {},
   "source": [
    "### How would a 50% increase in the initial investment amount affect the 4% retirement withdrawal?"
   ]
  },
  {
   "cell_type": "code",
   "execution_count": null,
   "metadata": {},
   "outputs": [],
   "source": [
    "# YOUR CODE HERE"
   ]
  },
  {
   "cell_type": "markdown",
   "metadata": {},
   "source": [
    "### Optional Challenge\n",
    "\n",
    "In this section, you will calculate and plot the cumulative returns for the median and 90% confidence intervals. This plot shows the expected cumulative returns for any given day between the first day and the last day of investment. "
   ]
  },
  {
   "cell_type": "code",
   "execution_count": null,
   "metadata": {},
   "outputs": [],
   "source": [
    "# YOUR CODE HERE"
   ]
  }
 ],
 "metadata": {
  "kernel_info": {
   "name": "dev"
  },
  "kernelspec": {
   "display_name": "Python 3",
   "language": "python",
   "name": "python3"
  },
  "language_info": {
   "codemirror_mode": {
    "name": "ipython",
    "version": 3
   },
   "file_extension": ".py",
   "mimetype": "text/x-python",
   "name": "python",
   "nbconvert_exporter": "python",
   "pygments_lexer": "ipython3",
   "version": "3.7.6"
  },
  "nteract": {
   "version": "0.12.3"
  }
 },
 "nbformat": 4,
 "nbformat_minor": 4
}
